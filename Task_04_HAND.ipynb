{
  "nbformat": 4,
  "nbformat_minor": 0,
  "metadata": {
    "colab": {
      "provenance": [],
      "authorship_tag": "ABX9TyOVCWxubxuknCm9ne1exE60",
      "include_colab_link": true
    },
    "kernelspec": {
      "name": "python3",
      "display_name": "Python 3"
    },
    "language_info": {
      "name": "python"
    }
  },
  "cells": [
    {
      "cell_type": "markdown",
      "metadata": {
        "id": "view-in-github",
        "colab_type": "text"
      },
      "source": [
        "<a href=\"https://colab.research.google.com/github/Anshad-Aziz/PRODIGY_ML_03/blob/main/Task_04_HAND.ipynb\" target=\"_parent\"><img src=\"https://colab.research.google.com/assets/colab-badge.svg\" alt=\"Open In Colab\"/></a>"
      ]
    },
    {
      "cell_type": "code",
      "execution_count": null,
      "metadata": {
        "id": "3_uMOOmtJEJW"
      },
      "outputs": [],
      "source": [
        "# import necessary packages\n",
        "import cv2\n",
        "import numpy as np\n",
        "import mediapipe as mp\n",
        "import tensorflow as tf\n",
        "from tensorflow.keras.models import load_model\n",
        "\n",
        "# initialize mediapipe\n",
        "mpHands = mp.solutions.hands\n",
        "hands = mpHands.Hands(max_num_hands=1, min_detection_confidence=0.7)\n",
        "mpDraw = mp.solutions.drawing_utils\n",
        "\n",
        "# Load the gesture recognizer model\n",
        "model = load_model('mp_hand_gesture')\n",
        "\n",
        "# Load class names\n",
        "f = open('gesture.names', 'r')\n",
        "classNames = f.read().split('\\n')\n",
        "f.close()\n",
        "print(classNames)\n",
        "\n",
        "\n",
        "# Initialize the webcam\n",
        "cap = cv2.VideoCapture(0)\n",
        "\n",
        "while True:\n",
        "    # Read each frame from the webcam\n",
        "    _, frame = cap.read()\n",
        "\n",
        "    x, y, c = frame.shape\n",
        "\n",
        "    # Flip the frame vertically\n",
        "    frame = cv2.flip(frame, 1)\n",
        "    framergb = cv2.cvtColor(frame, cv2.COLOR_BGR2RGB)\n",
        "\n",
        "    # Get hand landmark prediction\n",
        "    result = hands.process(framergb)\n",
        "\n",
        "    # print(result)\n",
        "\n",
        "    className = ''\n",
        "\n",
        "    # post process the result\n",
        "    if result.multi_hand_landmarks:\n",
        "        landmarks = []\n",
        "        for handslms in result.multi_hand_landmarks:\n",
        "            for lm in handslms.landmark:\n",
        "                # print(id, lm)\n",
        "                lmx = int(lm.x * x)\n",
        "                lmy = int(lm.y * y)\n",
        "\n",
        "                landmarks.append([lmx, lmy])\n",
        "\n",
        "            # Drawing landmarks on frames\n",
        "            mpDraw.draw_landmarks(frame, handslms, mpHands.HAND_CONNECTIONS)\n",
        "\n",
        "            # Predict gesture\n",
        "            prediction = model.predict([landmarks])\n",
        "            # print(prediction)\n",
        "            classID = np.argmax(prediction)\n",
        "            className = classNames[classID]\n",
        "\n",
        "    # show the prediction on the frame\n",
        "    cv2.putText(frame, className, (10, 50), cv2.FONT_HERSHEY_SIMPLEX,\n",
        "                   1, (0,0,255), 2, cv2.LINE_AA)\n",
        "\n",
        "    # Show the final output\n",
        "    cv2.imshow(\"Output\", frame)\n",
        "\n",
        "    if cv2.waitKey(1) == ord('q'):\n",
        "        break\n",
        "\n",
        "# release the webcam and destroy all active windows\n",
        "cap.release()\n",
        "\n",
        "cv2.destroyAllWindows()"
      ]
    }
  ]
}